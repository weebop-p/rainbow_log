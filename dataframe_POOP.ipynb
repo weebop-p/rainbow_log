{
 "cells": [
  {
   "cell_type": "code",
   "execution_count": 25,
   "metadata": {},
   "outputs": [],
   "source": [
    "import pandas as pd\n",
    "import numpy as np"
   ]
  },
  {
   "cell_type": "code",
   "execution_count": 35,
   "metadata": {},
   "outputs": [],
   "source": [
    "class Meal:\n",
    "    def __init__(self, name, description, ingredients, recipe=\"\"):\n",
    "        self.name = name\n",
    "        self.description = description\n",
    "        self.ingredients = ingredients  # list of ingredients for the meal\n",
    "        self.recipe = recipe  # string containing the recipe instructions\n",
    "\n",
    "    def __str__(self):\n",
    "        return f\"{self.name} - {self.description} - Ingredients: {', '.join(self.ingredients)}\"\n",
    "\n",
    "class MealPlan:\n",
    "    def __init__(self):\n",
    "        self.meals = []\n",
    "\n",
    "    def add_meal(self, meal):\n",
    "        self.meals.append(meal)\n",
    "\n",
    "    def display_meals(self):\n",
    "        for meal in self.meals:\n",
    "            print(meal)\n",
    "\n",
    "    def get_meals_by_type(self, meal_type):\n",
    "        return [meal for meal in self.meals if meal.meal_type == meal_type]\n",
    "\n",
    "    def search_by_ingredient(self, ingredient):\n",
    "        # Return meals that contain the specified ingredient\n",
    "        return [meal for meal in self.meals if ingredient in meal.ingredients]\n",
    "    \n",
    "    def shopping_list(self, meal_names):\n",
    "        ingredient_count = {}\n",
    "        for meal_name in meal_names:\n",
    "            # find the meal by name in the meal plan\n",
    "            meal = next((meal for meal in self.meals if meal.name == meal_name), None)\n",
    "            if meal:\n",
    "                for ingredient in meal.ingredients:\n",
    "                    ingredient_count[ingredient] = ingredient_count.get(ingredient, 0) + 1\n",
    "\n",
    "        # Format the consolidated ingredient list\n",
    "        return [f\"{ingredient} x{count}\" for ingredient, count in ingredient_count.items()]\n",
    "\n",
    "\n",
    "\n",
    "def create_meal_objects(df):\n",
    "    meal_plan = MealPlan()  # Create an instance of MealPlan\n",
    "    meal_objects = {}  # This dictionary will store meal name as key and Meal object as value\n",
    "    \n",
    "    # Iterate over each row in DataFrame to create Meal instances\n",
    "    for index, row in df.iterrows():\n",
    "        # Create an instance of Meal\n",
    "        meal = Meal(name=row['Name'], description=row['Description'], ingredients=row['Ingredients'], recipe=row['Recipe'])\n",
    "        meal_objects[row['Name']] = meal  # Store it in the dictionary with meal's name as key\n",
    "        meal_plan.add_meal(meal)  # Add this meal to the MealPlan instance\n",
    "    \n",
    "    return meal_plan, meal_objects"
   ]
  },
  {
   "cell_type": "code",
   "execution_count": 34,
   "metadata": {},
   "outputs": [
    {
     "data": {
      "text/plain": [
       "\"\\n1. In a bowl, combine: 2 tablespoons golden syrup, 1 tablespoon sriracha sauce, 1 tablespoon soy sauce, 1 teaspoon ginger puree, 1/2 teaspoon of Chinese five spice, and 1 tablespoon of olive oil. Mix well to form a marinade.\\n\\n2. Add 260g of diced chicken to the marinade ensuring each piece is well coated. Let it marinate for at least 30 minutes.\\n\\n3. Heat a skillet or frying pan over medium heat. Add the marinated chicken pieces and cook until browned on all sides.\\n\\n4. Finely chop 1 spring onion and 1 teaspoon of fresh thyme. Add to the pan. Stir well and continue cooking until the chicken is cooked through.\\n\\n5. If you're using red chilli, finely chop half of it and sprinkle over the top for an extra kick.\\n\\n6. Taste and adjust seasoning with salt, if necessary.\\n7. Serve hot with a side of your choice.\\n\""
      ]
     },
     "execution_count": 34,
     "metadata": {},
     "output_type": "execute_result"
    }
   ],
   "source": [
    "df = pd.read_csv('rainbow_df.csv')\n",
    "\n",
    "\n",
    "meal_plan = MealPlan()\n",
    "meals_dict = {}\n",
    "\n",
    "\n",
    "def parse_ingredients(ingredient_string):\n",
    "    # Assuming ingredients are separated by comma in the CSV\n",
    "    return [ingredient.strip() for ingredient in ingredient_string.split(',')]\n",
    "\n",
    "# Iterate over the DataFrame rows and create Meal instances\n",
    "for index, row in df.iterrows():\n",
    "    # Parse ingredients into a list\n",
    "    ingredients_list = parse_ingredients(row['Ingredients'])\n",
    "    \n",
    "    # Create a Meal instance with the data from the row\n",
    "    meal = Meal(row['Name'], row['Description'], ingredients_list, row['Recipe'])\n",
    "    \n",
    "    # Add the meal to the MealPlan instance\n",
    "    meal_plan.add_meal(meal)\n",
    "\n",
    "    # Also add the meal to the dictionary with the name as the key\n",
    "    meals_dict[row['Name'].replace(\" \", \"_\").lower()] = meal\n",
    "\n",
    "# To test the implementation\n",
    "#meal_plan.display_meals()\n",
    "\n",
    "# Now you can also access individual meals by name from the meals_dict\n",
    "# For example:\n",
    "firecracker_chicken = meals_dict['firecracker_chicken']\n",
    "print(firecracker_chicken.recipe)"
   ]
  },
  {
   "cell_type": "code",
   "execution_count": 28,
   "metadata": {},
   "outputs": [
    {
     "ename": "NameError",
     "evalue": "name 'firecracker_chicken' is not defined",
     "output_type": "error",
     "traceback": [
      "\u001b[1;31m---------------------------------------------------------------------------\u001b[0m",
      "\u001b[1;31mNameError\u001b[0m                                 Traceback (most recent call last)",
      "\u001b[1;32mUntitled-2.ipynb Cell 4\u001b[0m line \u001b[0;36m1\n\u001b[1;32m----> <a href='vscode-notebook-cell:Untitled-2.ipynb?jupyter-notebook#W6sdW50aXRsZWQ%3D?line=0'>1</a>\u001b[0m firecracker_chicken\n",
      "\u001b[1;31mNameError\u001b[0m: name 'firecracker_chicken' is not defined"
     ]
    }
   ],
   "source": [
    "firecracker_chicken"
   ]
  },
  {
   "cell_type": "code",
   "execution_count": 30,
   "metadata": {},
   "outputs": [
    {
     "data": {
      "text/html": [
       "<div>\n",
       "<style scoped>\n",
       "    .dataframe tbody tr th:only-of-type {\n",
       "        vertical-align: middle;\n",
       "    }\n",
       "\n",
       "    .dataframe tbody tr th {\n",
       "        vertical-align: top;\n",
       "    }\n",
       "\n",
       "    .dataframe thead th {\n",
       "        text-align: right;\n",
       "    }\n",
       "</style>\n",
       "<table border=\"1\" class=\"dataframe\">\n",
       "  <thead>\n",
       "    <tr style=\"text-align: right;\">\n",
       "      <th></th>\n",
       "      <th>Name</th>\n",
       "      <th>Description</th>\n",
       "      <th>Ingredients</th>\n",
       "      <th>Recipe</th>\n",
       "    </tr>\n",
       "  </thead>\n",
       "  <tbody>\n",
       "    <tr>\n",
       "      <th>0</th>\n",
       "      <td>\\nfirecracker_chicken\\n</td>\n",
       "      <td>\\nHoneyed Herb &amp; Sriracha Chicken with Five Sp...</td>\n",
       "      <td>\\nDiced Chicken Breast, Golden Syrup, Sriracha...</td>\n",
       "      <td>\\n1. In a bowl, combine: 2 tablespoons golden ...</td>\n",
       "    </tr>\n",
       "  </tbody>\n",
       "</table>\n",
       "</div>"
      ],
      "text/plain": [
       "                      Name                                        Description  \\\n",
       "0  \\nfirecracker_chicken\\n  \\nHoneyed Herb & Sriracha Chicken with Five Sp...   \n",
       "\n",
       "                                         Ingredients  \\\n",
       "0  \\nDiced Chicken Breast, Golden Syrup, Sriracha...   \n",
       "\n",
       "                                              Recipe  \n",
       "0  \\n1. In a bowl, combine: 2 tablespoons golden ...  "
      ]
     },
     "execution_count": 30,
     "metadata": {},
     "output_type": "execute_result"
    }
   ],
   "source": [
    "df"
   ]
  },
  {
   "cell_type": "code",
   "execution_count": null,
   "metadata": {},
   "outputs": [],
   "source": []
  }
 ],
 "metadata": {
  "kernelspec": {
   "display_name": "Python 3",
   "language": "python",
   "name": "python3"
  },
  "language_info": {
   "codemirror_mode": {
    "name": "ipython",
    "version": 3
   },
   "file_extension": ".py",
   "mimetype": "text/x-python",
   "name": "python",
   "nbconvert_exporter": "python",
   "pygments_lexer": "ipython3",
   "version": "3.11.5"
  }
 },
 "nbformat": 4,
 "nbformat_minor": 2
}
