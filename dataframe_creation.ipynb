{
 "cells": [
  {
   "cell_type": "code",
   "execution_count": 13,
   "metadata": {},
   "outputs": [],
   "source": [
    "import pandas as pd"
   ]
  },
  {
   "cell_type": "code",
   "execution_count": 29,
   "metadata": {},
   "outputs": [],
   "source": [
    "rainbow_df = pd.DataFrame(columns=['Name', 'Description', 'Ingredients', 'Recipe'])\n",
    "\n",
    "def add_meal_to_dataframe(df_, name, description, ingredients, recipe):\n",
    "    new_row = pd.DataFrame({\n",
    "        'Name': [name],\n",
    "        'Description': [description],\n",
    "        'Ingredients': [ingredients],\n",
    "        'Recipe': [recipe]\n",
    "    })\n",
    "    return pd.concat([df_, new_row], ignore_index=True)"
   ]
  },
  {
   "cell_type": "code",
   "execution_count": 30,
   "metadata": {},
   "outputs": [
    {
     "data": {
      "text/html": [
       "<div>\n",
       "<style scoped>\n",
       "    .dataframe tbody tr th:only-of-type {\n",
       "        vertical-align: middle;\n",
       "    }\n",
       "\n",
       "    .dataframe tbody tr th {\n",
       "        vertical-align: top;\n",
       "    }\n",
       "\n",
       "    .dataframe thead th {\n",
       "        text-align: right;\n",
       "    }\n",
       "</style>\n",
       "<table border=\"1\" class=\"dataframe\">\n",
       "  <thead>\n",
       "    <tr style=\"text-align: right;\">\n",
       "      <th></th>\n",
       "      <th>Name</th>\n",
       "      <th>Description</th>\n",
       "      <th>Ingredients</th>\n",
       "      <th>Recipe</th>\n",
       "    </tr>\n",
       "  </thead>\n",
       "  <tbody>\n",
       "  </tbody>\n",
       "</table>\n",
       "</div>"
      ],
      "text/plain": [
       "Empty DataFrame\n",
       "Columns: [Name, Description, Ingredients, Recipe]\n",
       "Index: []"
      ]
     },
     "execution_count": 30,
     "metadata": {},
     "output_type": "execute_result"
    }
   ],
   "source": [
    "rainbow_df"
   ]
  },
  {
   "cell_type": "code",
   "execution_count": 31,
   "metadata": {},
   "outputs": [],
   "source": [
    "name_text='''firecracker_chicken'''"
   ]
  },
  {
   "cell_type": "code",
   "execution_count": 32,
   "metadata": {},
   "outputs": [],
   "source": [
    "description='''\n",
    "Honeyed Herb & Sriracha Chicken with Five Spice\n",
    "'''"
   ]
  },
  {
   "cell_type": "code",
   "execution_count": 33,
   "metadata": {},
   "outputs": [],
   "source": [
    "ingredients_text='''\n",
    "Diced Chicken Breast, Golden Syrup, Sriracha Sauce, Fresh Thyme, Spring Onion, Soy Sauce, Ginger Puree, Chinese Five Spice, Olive Oil, Red Chilli (optional), Salt\n",
    "'''"
   ]
  },
  {
   "cell_type": "code",
   "execution_count": 34,
   "metadata": {},
   "outputs": [],
   "source": [
    "recipe_text='''\n",
    "1. In a bowl, combine: 2 tablespoons golden syrup, 1 tablespoon sriracha sauce, 1 tablespoon soy sauce, 1 teaspoon ginger puree, 1/2 teaspoon of Chinese five spice, and 1 tablespoon of olive oil. Mix well to form a marinade.\n",
    "\n",
    "2. Add 260g of diced chicken to the marinade ensuring each piece is well coated. Let it marinate for at least 30 minutes.\n",
    "\n",
    "3. Heat a skillet or frying pan over medium heat. Add the marinated chicken pieces and cook until browned on all sides.\n",
    "\n",
    "4. Finely chop 1 spring onion and 1 teaspoon of fresh thyme. Add to the pan. Stir well and continue cooking until the chicken is cooked through.\n",
    "\n",
    "5. If you're using red chilli, finely chop half of it and sprinkle over the top for an extra kick.\n",
    "\n",
    "6. Taste and adjust seasoning with salt, if necessary.\n",
    "7. Serve hot with a side of your choice.\n",
    "'''"
   ]
  },
  {
   "cell_type": "code",
   "execution_count": 35,
   "metadata": {},
   "outputs": [],
   "source": [
    "rainbow_df=add_meal_to_dataframe(rainbow_df,name_text,description,ingredients_text,recipe_text)"
   ]
  },
  {
   "cell_type": "code",
   "execution_count": 36,
   "metadata": {},
   "outputs": [
    {
     "data": {
      "text/html": [
       "<div>\n",
       "<style scoped>\n",
       "    .dataframe tbody tr th:only-of-type {\n",
       "        vertical-align: middle;\n",
       "    }\n",
       "\n",
       "    .dataframe tbody tr th {\n",
       "        vertical-align: top;\n",
       "    }\n",
       "\n",
       "    .dataframe thead th {\n",
       "        text-align: right;\n",
       "    }\n",
       "</style>\n",
       "<table border=\"1\" class=\"dataframe\">\n",
       "  <thead>\n",
       "    <tr style=\"text-align: right;\">\n",
       "      <th></th>\n",
       "      <th>Name</th>\n",
       "      <th>Description</th>\n",
       "      <th>Ingredients</th>\n",
       "      <th>Recipe</th>\n",
       "    </tr>\n",
       "  </thead>\n",
       "  <tbody>\n",
       "    <tr>\n",
       "      <th>0</th>\n",
       "      <td>firecracker_chicken</td>\n",
       "      <td>\\nHoneyed Herb &amp; Sriracha Chicken with Five Sp...</td>\n",
       "      <td>\\nDiced Chicken Breast, Golden Syrup, Sriracha...</td>\n",
       "      <td>\\n1. In a bowl, combine: 2 tablespoons golden ...</td>\n",
       "    </tr>\n",
       "  </tbody>\n",
       "</table>\n",
       "</div>"
      ],
      "text/plain": [
       "                  Name                                        Description  \\\n",
       "0  firecracker_chicken  \\nHoneyed Herb & Sriracha Chicken with Five Sp...   \n",
       "\n",
       "                                         Ingredients  \\\n",
       "0  \\nDiced Chicken Breast, Golden Syrup, Sriracha...   \n",
       "\n",
       "                                              Recipe  \n",
       "0  \\n1. In a bowl, combine: 2 tablespoons golden ...  "
      ]
     },
     "execution_count": 36,
     "metadata": {},
     "output_type": "execute_result"
    }
   ],
   "source": [
    "rainbow_df"
   ]
  },
  {
   "cell_type": "code",
   "execution_count": 37,
   "metadata": {},
   "outputs": [
    {
     "name": "stdout",
     "output_type": "stream",
     "text": [
      "Stored 'rainbow_df' (DataFrame)\n"
     ]
    },
    {
     "data": {
      "text/html": [
       "<div>\n",
       "<style scoped>\n",
       "    .dataframe tbody tr th:only-of-type {\n",
       "        vertical-align: middle;\n",
       "    }\n",
       "\n",
       "    .dataframe tbody tr th {\n",
       "        vertical-align: top;\n",
       "    }\n",
       "\n",
       "    .dataframe thead th {\n",
       "        text-align: right;\n",
       "    }\n",
       "</style>\n",
       "<table border=\"1\" class=\"dataframe\">\n",
       "  <thead>\n",
       "    <tr style=\"text-align: right;\">\n",
       "      <th></th>\n",
       "      <th>Name</th>\n",
       "      <th>Description</th>\n",
       "      <th>Ingredients</th>\n",
       "      <th>Recipe</th>\n",
       "    </tr>\n",
       "  </thead>\n",
       "  <tbody>\n",
       "    <tr>\n",
       "      <th>0</th>\n",
       "      <td>firecracker_chicken</td>\n",
       "      <td>\\nHoneyed Herb &amp; Sriracha Chicken with Five Sp...</td>\n",
       "      <td>\\nDiced Chicken Breast, Golden Syrup, Sriracha...</td>\n",
       "      <td>\\n1. In a bowl, combine: 2 tablespoons golden ...</td>\n",
       "    </tr>\n",
       "  </tbody>\n",
       "</table>\n",
       "</div>"
      ],
      "text/plain": [
       "                  Name                                        Description  \\\n",
       "0  firecracker_chicken  \\nHoneyed Herb & Sriracha Chicken with Five Sp...   \n",
       "\n",
       "                                         Ingredients  \\\n",
       "0  \\nDiced Chicken Breast, Golden Syrup, Sriracha...   \n",
       "\n",
       "                                              Recipe  \n",
       "0  \\n1. In a bowl, combine: 2 tablespoons golden ...  "
      ]
     },
     "execution_count": 37,
     "metadata": {},
     "output_type": "execute_result"
    }
   ],
   "source": [
    "%store rainbow_df\n",
    "rainbow_df.to_csv('rainbow_df.csv', index=False)\n",
    "rainbow_df"
   ]
  },
  {
   "cell_type": "code",
   "execution_count": 38,
   "metadata": {},
   "outputs": [
    {
     "name": "stdout",
     "output_type": "stream",
     "text": [
      "\n",
      "1. In a bowl, combine: 2 tablespoons golden syrup, 1 tablespoon sriracha sauce, 1 tablespoon soy sauce, 1 teaspoon ginger puree, 1/2 teaspoon of Chinese five spice, and 1 tablespoon of olive oil. Mix well to form a marinade.\n",
      "\n",
      "2. Add 260g of diced chicken to the marinade ensuring each piece is well coated. Let it marinate for at least 30 minutes.\n",
      "\n",
      "3. Heat a skillet or frying pan over medium heat. Add the marinated chicken pieces and cook until browned on all sides.\n",
      "\n",
      "4. Finely chop 1 spring onion and 1 teaspoon of fresh thyme. Add to the pan. Stir well and continue cooking until the chicken is cooked through.\n",
      "\n",
      "5. If you're using red chilli, finely chop half of it and sprinkle over the top for an extra kick.\n",
      "\n",
      "6. Taste and adjust seasoning with salt, if necessary.\n",
      "7. Serve hot with a side of your choice.\n",
      "\n"
     ]
    }
   ],
   "source": [
    "print(rainbow_df['Recipe'][0])"
   ]
  },
  {
   "cell_type": "code",
   "execution_count": null,
   "metadata": {},
   "outputs": [],
   "source": []
  }
 ],
 "metadata": {
  "kernelspec": {
   "display_name": "Python 3",
   "language": "python",
   "name": "python3"
  },
  "language_info": {
   "codemirror_mode": {
    "name": "ipython",
    "version": 3
   },
   "file_extension": ".py",
   "mimetype": "text/x-python",
   "name": "python",
   "nbconvert_exporter": "python",
   "pygments_lexer": "ipython3",
   "version": "3.11.5"
  }
 },
 "nbformat": 4,
 "nbformat_minor": 2
}
