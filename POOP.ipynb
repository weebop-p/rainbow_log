{
 "cells": [
  {
   "cell_type": "code",
   "execution_count": 2,
   "metadata": {},
   "outputs": [],
   "source": [
    "from collections import defaultdict\n",
    "import json\n",
    "import os"
   ]
  },
  {
   "cell_type": "code",
   "execution_count": 26,
   "metadata": {},
   "outputs": [],
   "source": [
    "class Meal:\n",
    "    def __init__(self, name, ingredients,quantities=\"\", recipe=\"\"):\n",
    "        self.name = name\n",
    "        self.ingredients = ingredients\n",
    "        self.quantities = quantities\n",
    "        self.recipe = recipe\n",
    "\n",
    "    def __str__(self):\n",
    "        return self.name\n",
    "\n",
    "\n",
    "class MealPlan:\n",
    "    def __init__(self):\n",
    "        self.meals = []\n",
    "\n",
    "    def add_meal(self, meal):\n",
    "        self.meals.append(meal)\n",
    "\n",
    "    def display_meals(self):\n",
    "        for meal in self.meals:\n",
    "            print(meal)\n",
    "\n",
    "    def get_meals_by_type(self, meal_type):\n",
    "        return [meal for meal in self.meals if meal.meal_type == meal_type]\n",
    "    \n",
    "    def search_meals_by_name(self,names): ## return memory address of a meal given its name as a string\n",
    "        return [meal for meal in self.meals if meal.name in names]\n",
    "\n",
    "    def search_by_ingredient(self, ingredient):\n",
    "        # Normalize the ingredient for consistent matching\n",
    "        ingredient = ingredient.lower()\n",
    "        return [\n",
    "            meal.name for meal in self.meals\n",
    "            if any(ingredient in ingr.lower() for ingr in meal.ingredients)\n",
    "        ]\n",
    "    \n",
    "    def shopping_list(self, meal_list):\n",
    "        ingredient_count = {}\n",
    "        for meal in meal_list:\n",
    "            meal_memory = MealPlan.search_meals_by_name(self,meal)[0]\n",
    "            if meal_memory:\n",
    "                for ingredient in meal_memory.ingredients:\n",
    "                    ingredient_count[ingredient] = ingredient_count.get(ingredient, 0) + 1\n",
    "\n",
    "        # Format the consolidated ingredient list\n",
    "        return [f\"{ingredient} x{count}\" for ingredient, count in ingredient_count.items()]\n",
    "\n",
    "    \n",
    "\n",
    "def read_meal_from_json(file_name):\n",
    "    with open(file_name, 'r') as file:\n",
    "        data = json.load(file)\n",
    "        \n",
    "        # Extracting the name, ingredients, quantities, and recipe from the JSON data\n",
    "        name = data.get('name', '')\n",
    "        ingredients = data.get('ingredients', [])\n",
    "        if isinstance(ingredients, str):\n",
    "            # If the ingredients are given as a single string, split into a list\n",
    "            ingredients = [i.strip() for i in ingredients.split(',')]\n",
    "        quantities = data.get('quantities', '')  # Extracting quantities\n",
    "        recipe = data.get('recipe', '').replace('\\\\n', '\\n')  # Ensure newlines are processed correctly\n",
    "        \n",
    "        return Meal(name, ingredients, quantities, recipe)\n",
    "    \n",
    "\n",
    "def load_meals_from_folder(folder_path):\n",
    "    meal_plan = MealPlan()\n",
    "    for file_name in os.listdir(folder_path):\n",
    "        if file_name.endswith('.json'):\n",
    "            file_path = os.path.join(folder_path,file_name)\n",
    "            meal = read_meal_from_json(file_path)\n",
    "            meal_plan.add_meal(meal)\n",
    "    \n",
    "    return(meal_plan)"
   ]
  },
  {
   "cell_type": "code",
   "execution_count": 27,
   "metadata": {},
   "outputs": [
    {
     "name": "stdout",
     "output_type": "stream",
     "text": [
      "Chicken Basquaise\n",
      "Chicken Chasseur\n",
      "Chicken and Mushroom FricassÃ©e\n",
      "Coq au Vin Blanc\n",
      "Creamy Mustard Chicken\n",
      "Honeyed Herb & Sriracha Chicken with Five Spice\n",
      "Fish Pie\n",
      "Mushroom Pasta\n",
      "Mushroom Risotto\n",
      "Pork Bourguignon\n",
      "Pork Normandy\n",
      "Rabbit Liver Pate\n",
      "Roast Rabbit - Shallots, Wine, Rosemary\n",
      "Salmon en Croute\n"
     ]
    }
   ],
   "source": [
    "folder_path = 'meals2'\n",
    "mp1 = load_meals_from_folder(folder_path)\n",
    "mp1.display_meals()"
   ]
  },
  {
   "cell_type": "code",
   "execution_count": 30,
   "metadata": {},
   "outputs": [
    {
     "data": {
      "text/plain": [
       "['salmon fillets x1',\n",
       " 'puff pastry x1',\n",
       " 'spinach x1',\n",
       " 'cream cheese x1',\n",
       " 'lemon zest x1',\n",
       " 'dill x1',\n",
       " 'egg x1',\n",
       " 'salt x1',\n",
       " 'pepper x1']"
      ]
     },
     "execution_count": 30,
     "metadata": {},
     "output_type": "execute_result"
    }
   ],
   "source": [
    "mp1.shopping_list(['Salmon en Croute'])"
   ]
  },
  {
   "cell_type": "code",
   "execution_count": 8,
   "metadata": {},
   "outputs": [
    {
     "name": "stdout",
     "output_type": "stream",
     "text": [
      "Shopping list for Pork Bourguignon:\n",
      "pork shoulder x1\n",
      "bacon x1\n",
      "onions x1\n",
      "carrots x1\n",
      "mushrooms x1\n",
      "garlic x1\n",
      "red wine x1\n",
      "pork broth x1\n",
      "thyme x1\n",
      "bay leaf x1\n",
      "butter x1\n",
      "flour x1\n",
      "salt x1\n",
      "pepper x1\n",
      "parsley x1\n"
     ]
    }
   ],
   "source": [
    "# Assuming pork_bourg is a Meal object, use its name attribute\n",
    "shopping_list_for_pork_bourg = mp1.shopping_list([pork_bourg])\n",
    "\n",
    "# Print the shopping list\n",
    "print(\"Shopping list for Pork Bourguignon:\")\n",
    "for item in shopping_list_for_pork_bourg:\n",
    "    print(item)"
   ]
  },
  {
   "cell_type": "code",
   "execution_count": 9,
   "metadata": {},
   "outputs": [
    {
     "data": {
      "text/plain": [
       "14"
      ]
     },
     "execution_count": 9,
     "metadata": {},
     "output_type": "execute_result"
    }
   ],
   "source": [
    "len(mp1.meals)"
   ]
  },
  {
   "cell_type": "code",
   "execution_count": 10,
   "metadata": {},
   "outputs": [
    {
     "name": "stdout",
     "output_type": "stream",
     "text": [
      "Meals sorted by number of ingredients (ascending):\n",
      "Roast Rabbit - Shallots, Wine, Rosemary - Ingredients: 8\n",
      "Honeyed Herb & Sriracha Chicken with Five Spice - Ingredients: 9\n",
      "Rabbit Liver Pate - Ingredients: 9\n",
      "Salmon en Croute - Ingredients: 9\n",
      "Mushroom Pasta - Ingredients: 10\n",
      "Mushroom Risotto - Ingredients: 10\n",
      "Creamy Mustard Chicken - Ingredients: 10\n",
      "Chicken Basquaise - Ingredients: 11\n",
      "Pork Normandy - Ingredients: 11\n",
      "Chicken Chasseur - Ingredients: 12\n",
      "Chicken and Mushroom FricassÃ©e - Ingredients: 12\n",
      "Fish Pie - Ingredients: 12\n",
      "Coq au Vin Blanc - Ingredients: 13\n",
      "Pork Bourguignon - Ingredients: 15\n",
      "\n",
      "Meal with the fewest ingredients: Roast Rabbit - Shallots, Wine, Rosemary - Ingredients: 8\n"
     ]
    }
   ],
   "source": [
    "# Assuming the MealPlan instance is named mp1 and all meals are added to it\n",
    "\n",
    "# Print all meals in ascending order of number of ingredients\n",
    "sorted_meals = sorted(mp1.meals, key=lambda meal: len(meal.ingredients))\n",
    "print(\"Meals sorted by number of ingredients (ascending):\")\n",
    "for meal in sorted_meals:\n",
    "    print(f\"{meal.name} - Ingredients: {len(meal.ingredients)}\")\n",
    "\n",
    "# Find and print the meal with the fewest ingredients\n",
    "meal_with_fewest_ingredients = min(mp1.meals, key=lambda meal: len(meal.ingredients))\n",
    "print(f\"\\nMeal with the fewest ingredients: {meal_with_fewest_ingredients.name} - Ingredients: {len(meal_with_fewest_ingredients.ingredients)}\")\n"
   ]
  },
  {
   "cell_type": "code",
   "execution_count": null,
   "metadata": {},
   "outputs": [],
   "source": []
  }
 ],
 "metadata": {
  "kernelspec": {
   "display_name": "Python 3",
   "language": "python",
   "name": "python3"
  },
  "language_info": {
   "codemirror_mode": {
    "name": "ipython",
    "version": 3
   },
   "file_extension": ".py",
   "mimetype": "text/x-python",
   "name": "python",
   "nbconvert_exporter": "python",
   "pygments_lexer": "ipython3",
   "version": "3.11.5"
  }
 },
 "nbformat": 4,
 "nbformat_minor": 2
}
