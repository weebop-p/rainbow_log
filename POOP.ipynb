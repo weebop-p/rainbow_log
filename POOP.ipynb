{
 "cells": [
  {
   "cell_type": "code",
   "execution_count": 28,
   "metadata": {},
   "outputs": [],
   "source": [
    "from collections import defaultdict\n",
    "import json"
   ]
  },
  {
   "cell_type": "code",
   "execution_count": 29,
   "metadata": {},
   "outputs": [],
   "source": [
    "class Meal:\n",
    "    def __init__(self, name, ingredients,quantities=\"\", recipe=\"\"):\n",
    "        self.name = name\n",
    "        self.ingredients = ingredients  # list of ingredients for the meal\n",
    "        self.quantities = quantities\n",
    "        self.recipe = recipe  # string containing the recipe instructions\n",
    "\n",
    "    def __str__(self):\n",
    "        return f\"{self.name}  - Ingredients: {', '.join(self.ingredients)}\"\n",
    "\n",
    "class MealPlan:\n",
    "    def __init__(self):\n",
    "        self.meals = []\n",
    "\n",
    "    def add_meal(self, meal):\n",
    "        self.meals.append(meal)\n",
    "\n",
    "    def display_meals(self):\n",
    "        for meal in self.meals:\n",
    "            print(meal)\n",
    "\n",
    "    def get_meals_by_type(self, meal_type):\n",
    "        return [meal for meal in self.meals if meal.meal_type == meal_type]\n",
    "\n",
    "    def search_by_ingredient(self, ingredient):\n",
    "        # Return meals that contain the specified ingredient\n",
    "        return [meal for meal in self.meals if ingredient in meal.ingredients]\n",
    "    \n",
    "    def shopping_list(self, meal_names):\n",
    "        ingredient_count = {}\n",
    "        for meal_name in meal_names:\n",
    "            # find the meal by name in the meal plan\n",
    "            meal = next((meal for meal in self.meals if meal.name == meal_name), None)\n",
    "            if meal:\n",
    "                for ingredient in meal.ingredients:\n",
    "                    ingredient_count[ingredient] = ingredient_count.get(ingredient, 0) + 1\n",
    "\n",
    "        # Format the consolidated ingredient list\n",
    "        return [f\"{ingredient} x{count}\" for ingredient, count in ingredient_count.items()]\n",
    "    \n",
    "\n",
    "    \n",
    "def read_meal_from_json(file_name):\n",
    "    with open(file_name, 'r') as file:\n",
    "        data = json.load(file)\n",
    "        \n",
    "        # Extracting the name, ingredients, quantities, and recipe from the JSON data\n",
    "        name = data.get('name', '')\n",
    "        ingredients = data.get('ingredients', [])\n",
    "        if isinstance(ingredients, str):\n",
    "            # If the ingredients are given as a single string, split into a list\n",
    "            ingredients = [i.strip() for i in ingredients.split(',')]\n",
    "        quantities = data.get('quantities', '')  # Extracting quantities\n",
    "        recipe = data.get('recipe', '').replace('\\\\n', '\\n')  # Ensure newlines are processed correctly\n",
    "        \n",
    "        return Meal(name, ingredients, quantities, recipe)"
   ]
  },
  {
   "cell_type": "code",
   "execution_count": 30,
   "metadata": {},
   "outputs": [],
   "source": [
    "## ==============================================================================##\n",
    "##                            CREATE INSTANCES OF MEALS                          ##\n",
    "\n",
    "firecracker_chicken=read_meal_from_json('firecracker_chicken.json')\n",
    "mushroom_pasta=read_meal_from_json('mushroom_pasta.json')\n",
    "\n",
    "#roast_rabbit=read_meal_from_file(\"roast_rabbit.txt\")\n",
    "#pasta_alfredo=read_meal_from_file(\"pasta_alfredo.txt\")"
   ]
  },
  {
   "cell_type": "code",
   "execution_count": 31,
   "metadata": {},
   "outputs": [
    {
     "name": "stdout",
     "output_type": "stream",
     "text": [
      "1.Cook pasta - When cooked keep some of the pasta water.\n",
      "2. Chop shallots finely, chop mushroom, chicken and spinach.\n",
      "3.Fry shallots and garlic.\n",
      "4.Deglaze pan with wine.\n",
      "5.Add mushrooms.\n",
      "6.Add chicken, spinach, creme fraiche.\n",
      "6. Add pasta water to make more saucy.\n",
      "7.Add pasta, duh.\n"
     ]
    }
   ],
   "source": [
    "print(mushroom_pasta.recipe)"
   ]
  },
  {
   "cell_type": "code",
   "execution_count": null,
   "metadata": {},
   "outputs": [],
   "source": []
  }
 ],
 "metadata": {
  "kernelspec": {
   "display_name": "Python 3",
   "language": "python",
   "name": "python3"
  },
  "language_info": {
   "codemirror_mode": {
    "name": "ipython",
    "version": 3
   },
   "file_extension": ".py",
   "mimetype": "text/x-python",
   "name": "python",
   "nbconvert_exporter": "python",
   "pygments_lexer": "ipython3",
   "version": "3.11.5"
  }
 },
 "nbformat": 4,
 "nbformat_minor": 2
}
