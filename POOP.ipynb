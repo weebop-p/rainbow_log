{
 "cells": [
  {
   "cell_type": "code",
   "execution_count": 1,
   "metadata": {},
   "outputs": [],
   "source": [
    "from collections import defaultdict\n",
    "import json"
   ]
  },
  {
   "cell_type": "code",
   "execution_count": 2,
   "metadata": {},
   "outputs": [],
   "source": [
    "class Meal:\n",
    "    def __init__(self, name, ingredients,quantities=\"\", recipe=\"\"):\n",
    "        self.name = name\n",
    "        self.ingredients = ingredients  # list of ingredients for the meal\n",
    "        self.quantities = quantities\n",
    "        self.recipe = recipe  # string containing the recipe instructions\n",
    "\n",
    "    def __str__(self):\n",
    "        return self.name\n",
    "\n",
    "class MealPlan:\n",
    "    def __init__(self):\n",
    "        self.meals = []\n",
    "\n",
    "    def add_meal(self, meal):\n",
    "        self.meals.append(meal)\n",
    "\n",
    "    def display_meals(self):\n",
    "        for meal in self.meals:\n",
    "            print(meal)\n",
    "\n",
    "    def get_meals_by_type(self, meal_type):\n",
    "        return [meal for meal in self.meals if meal.meal_type == meal_type]\n",
    "\n",
    "    def search_by_ingredient(self, ingredient):\n",
    "        # Return meals that contain the specified ingredient\n",
    "        return [meal for meal in self.meals if ingredient in meal.ingredients]\n",
    "    \n",
    "    def shopping_list(self, meals):\n",
    "        ingredient_count = {}\n",
    "        for meal in meals:\n",
    "            if meal:\n",
    "                for ingredient in meal.ingredients:\n",
    "                    ingredient_count[ingredient] = ingredient_count.get(ingredient, 0) + 1\n",
    "\n",
    "        # Format the consolidated ingredient list\n",
    "        return [f\"{ingredient} x{count}\" for ingredient, count in ingredient_count.items()]\n",
    "\n",
    "\n",
    "        # Format the consolidated ingredient list\n",
    "        return [f\"{ingredient} x{count}\" for ingredient, count in ingredient_count.items()]\n",
    "    \n",
    "\n",
    "    \n",
    "def read_meal_from_json(file_name):\n",
    "    with open(file_name, 'r') as file:\n",
    "        data = json.load(file)\n",
    "        \n",
    "        # Extracting the name, ingredients, quantities, and recipe from the JSON data\n",
    "        name = data.get('name', '')\n",
    "        ingredients = data.get('ingredients', [])\n",
    "        if isinstance(ingredients, str):\n",
    "            # If the ingredients are given as a single string, split into a list\n",
    "            ingredients = [i.strip() for i in ingredients.split(',')]\n",
    "        quantities = data.get('quantities', '')  # Extracting quantities\n",
    "        recipe = data.get('recipe', '').replace('\\\\n', '\\n')  # Ensure newlines are processed correctly\n",
    "        \n",
    "        return Meal(name, ingredients, quantities, recipe)"
   ]
  },
  {
   "cell_type": "code",
   "execution_count": 3,
   "metadata": {},
   "outputs": [],
   "source": [
    "## ==============================================================================##\n",
    "##                            CREATE INSTANCES OF MEALS                          ##\n",
    "\n",
    "firecracker_chicken=read_meal_from_json('meals2/firecracker_chicken.json')\n",
    "mushroom_pasta=read_meal_from_json('meals2/mushroom_pasta.json')\n",
    "roast_rabbit=read_meal_from_json('meals2/roast_rabbit.json')\n",
    "mushroom_risotto=read_meal_from_json('meals2/mushroom_risotto.json')\n",
    "rabbit_pate=read_meal_from_json('meals2/rabbit_pate.json')\n",
    "pork_bourg=read_meal_from_json('meals2/pork_bourg.json')\n",
    "coq_au_vin=read_meal_from_json('meals2/coq_au_vin.json')\n",
    "chicken_basquaise = read_meal_from_json('meals2/chicken_basquaise.json')\n",
    "chicken_chasseur = read_meal_from_json('meals2/chicken_chasseur.json')\n",
    "chicken_fricassee = read_meal_from_json('meals2/chicken_fricassee.json')\n",
    "creamy_mustard_chicken = read_meal_from_json('meals2/creamy_mustard_chicken.json')\n",
    "fish_pie = read_meal_from_json('meals2/fish_pie.json')\n",
    "pork_normandy = read_meal_from_json('meals2/pork_normandy.json')\n",
    "salmon_en_croute = read_meal_from_json('meals2/salmon_en_croute.json')\n",
    "\n",
    "\n",
    "#roast_rabbit=read_meal_from_file(\"roast_rabbit.txt\")\n",
    "#pasta_alfredo=read_meal_from_file(\"pasta_alfredo.txt\")"
   ]
  },
  {
   "cell_type": "code",
   "execution_count": 5,
   "metadata": {},
   "outputs": [
    {
     "name": "stdout",
     "output_type": "stream",
     "text": [
      "['pork shoulder', 'bacon', 'onions', 'carrots', 'mushrooms', 'garlic', 'red wine', 'pork broth', 'thyme', 'bay leaf', 'butter', 'flour', 'salt', 'pepper', 'parsley']\n",
      "\n",
      "1. Season 2 lbs pork shoulder with salt and pepper. Cook 6 oz bacon until crispy, remove and set aside.\n",
      "2. Brown pork in bacon fat. Remove and set aside.\n",
      "3. SautÃ© 1 large chopped onion and 3 chopped carrots until soft. Add 3 minced garlic cloves and cook for 1-2 minutes.\n",
      "4. Add 2 tbsp tomato paste and cook for 1-2 minutes. Pour in 2 cups red wine and deglaze the pot.\n",
      "5. Add 2 cups pork broth, 1 bay leaf, 2-3 sprigs thyme, 10 oz quartered mushrooms, pork, and bacon. Simmer until pork is tender, about 1.5 to 2 hours.\n",
      "6. Make a beurre maniÃ© with 2 tbsp butter and 2 tbsp flour, and stir into the stew to thicken.\n",
      "7. Season with salt and pepper, garnish with fresh parsley, and serve.\n"
     ]
    }
   ],
   "source": [
    "meal=pork_bourg\n",
    "print(str(meal.ingredients)+'\\n')\n",
    "print(meal.recipe)"
   ]
  },
  {
   "cell_type": "code",
   "execution_count": 5,
   "metadata": {},
   "outputs": [],
   "source": [
    "mp1=MealPlan()"
   ]
  },
  {
   "cell_type": "code",
   "execution_count": 6,
   "metadata": {},
   "outputs": [],
   "source": [
    "mp1=MealPlan()\n",
    "\n",
    "\n",
    "# List of all meal variable names\n",
    "meal_names = [\n",
    "    firecracker_chicken,\n",
    "    mushroom_pasta,\n",
    "    roast_rabbit,\n",
    "    mushroom_risotto,\n",
    "    rabbit_pate,\n",
    "    pork_bourg,\n",
    "    coq_au_vin,\n",
    "    chicken_basquaise,\n",
    "    chicken_chasseur,\n",
    "    chicken_fricassee,\n",
    "    creamy_mustard_chicken,\n",
    "    fish_pie,\n",
    "    pork_normandy,\n",
    "    salmon_en_croute\n",
    "]\n",
    "\n",
    "# Loop to add each meal to the meal plan\n",
    "for meal in meal_names:\n",
    "    mp1.add_meal(meal)"
   ]
  },
  {
   "cell_type": "code",
   "execution_count": 7,
   "metadata": {},
   "outputs": [
    {
     "ename": "NameError",
     "evalue": "name 'shopping_list_for_pork_bourg' is not defined",
     "output_type": "error",
     "traceback": [
      "\u001b[1;31m---------------------------------------------------------------------------\u001b[0m",
      "\u001b[1;31mNameError\u001b[0m                                 Traceback (most recent call last)",
      "Cell \u001b[1;32mIn[7], line 1\u001b[0m\n\u001b[1;32m----> 1\u001b[0m \u001b[43mshopping_list_for_pork_bourg\u001b[49m\n",
      "\u001b[1;31mNameError\u001b[0m: name 'shopping_list_for_pork_bourg' is not defined"
     ]
    }
   ],
   "source": [
    "shopping_list_for_pork_bourg"
   ]
  },
  {
   "cell_type": "code",
   "execution_count": null,
   "metadata": {},
   "outputs": [
    {
     "name": "stdout",
     "output_type": "stream",
     "text": [
      "Shopping list for Pork Bourguignon:\n",
      "pork shoulder x1\n",
      "bacon x1\n",
      "onions x1\n",
      "carrots x1\n",
      "mushrooms x1\n",
      "garlic x1\n",
      "red wine x1\n",
      "pork broth x1\n",
      "thyme x1\n",
      "bay leaf x1\n",
      "butter x1\n",
      "flour x1\n",
      "salt x1\n",
      "pepper x1\n",
      "parsley x1\n"
     ]
    }
   ],
   "source": [
    "# Assuming pork_bourg is a Meal object, use its name attribute\n",
    "shopping_list_for_pork_bourg = mp1.shopping_list([pork_bourg])\n",
    "\n",
    "# Print the shopping list\n",
    "print(\"Shopping list for Pork Bourguignon:\")\n",
    "for item in shopping_list_for_pork_bourg:\n",
    "    print(item)"
   ]
  },
  {
   "cell_type": "code",
   "execution_count": null,
   "metadata": {},
   "outputs": [
    {
     "data": {
      "text/plain": [
       "14"
      ]
     },
     "execution_count": 37,
     "metadata": {},
     "output_type": "execute_result"
    }
   ],
   "source": [
    "len(mp1.meals)"
   ]
  },
  {
   "cell_type": "code",
   "execution_count": null,
   "metadata": {},
   "outputs": [
    {
     "name": "stdout",
     "output_type": "stream",
     "text": [
      "Meals sorted by number of ingredients (ascending):\n",
      "Roast Rabbit - Shallots, Wine, Rosemary - Ingredients: 8\n",
      "Honeyed Herb & Sriracha Chicken with Five Spice - Ingredients: 9\n",
      "Rabbit Liver Pate - Ingredients: 9\n",
      "Salmon en Croute - Ingredients: 9\n",
      "Mushroom Pasta - Ingredients: 10\n",
      "Mushroom Risotto - Ingredients: 10\n",
      "Creamy Mustard Chicken - Ingredients: 10\n",
      "Chicken Basquaise - Ingredients: 11\n",
      "Pork Normandy - Ingredients: 11\n",
      "Chicken Chasseur - Ingredients: 12\n",
      "Chicken and Mushroom FricassÃ©e - Ingredients: 12\n",
      "Fish Pie - Ingredients: 12\n",
      "Coq au Vin Blanc - Ingredients: 13\n",
      "Pork Bourguignon - Ingredients: 15\n",
      "\n",
      "Meal with the fewest ingredients: Roast Rabbit - Shallots, Wine, Rosemary - Ingredients: 8\n"
     ]
    }
   ],
   "source": [
    "# Assuming the MealPlan instance is named mp1 and all meals are added to it\n",
    "\n",
    "# Print all meals in ascending order of number of ingredients\n",
    "sorted_meals = sorted(mp1.meals, key=lambda meal: len(meal.ingredients))\n",
    "print(\"Meals sorted by number of ingredients (ascending):\")\n",
    "for meal in sorted_meals:\n",
    "    print(f\"{meal.name} - Ingredients: {len(meal.ingredients)}\")\n",
    "\n",
    "# Find and print the meal with the fewest ingredients\n",
    "meal_with_fewest_ingredients = min(mp1.meals, key=lambda meal: len(meal.ingredients))\n",
    "print(f\"\\nMeal with the fewest ingredients: {meal_with_fewest_ingredients.name} - Ingredients: {len(meal_with_fewest_ingredients.ingredients)}\")\n"
   ]
  },
  {
   "cell_type": "code",
   "execution_count": null,
   "metadata": {},
   "outputs": [],
   "source": []
  }
 ],
 "metadata": {
  "kernelspec": {
   "display_name": "Python 3",
   "language": "python",
   "name": "python3"
  },
  "language_info": {
   "codemirror_mode": {
    "name": "ipython",
    "version": 3
   },
   "file_extension": ".py",
   "mimetype": "text/x-python",
   "name": "python",
   "nbconvert_exporter": "python",
   "pygments_lexer": "ipython3",
   "version": "3.11.5"
  }
 },
 "nbformat": 4,
 "nbformat_minor": 2
}
