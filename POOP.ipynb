{
 "cells": [
  {
   "cell_type": "code",
   "execution_count": 3,
   "metadata": {},
   "outputs": [],
   "source": [
    "from collections import defaultdict"
   ]
  },
  {
   "cell_type": "code",
   "execution_count": 3,
   "metadata": {},
   "outputs": [
    {
     "data": {
      "text/plain": [
       "{'editor.wordWrap': 'on'}"
      ]
     },
     "execution_count": 3,
     "metadata": {},
     "output_type": "execute_result"
    }
   ],
   "source": [
    "{\n",
    "  \"editor.wordWrap\": \"on\"\n",
    "}"
   ]
  },
  {
   "cell_type": "code",
   "execution_count": 4,
   "metadata": {},
   "outputs": [],
   "source": [
    "#this didnt work but maybe you can keep it and figure out why\n",
    "\n",
    "#meal_plan = MealPlan()  # create an instance of MealPlan\n",
    "#rabbit_stew = Meal(\"rabbit_stew.txt\")\n",
    "#meal_plan.add_meal(rabbit_stew)\n",
    "# If you have other meals, you can add them similarly using meal_plan.add_meal()\n",
    "\n",
    "# Now, you can call shopping_list on the meal_plan instance:\n",
    "#print(meal_plan.shopping_list([\"Rabbit Stew\"]))\n"
   ]
  },
  {
   "cell_type": "code",
   "execution_count": 4,
   "metadata": {},
   "outputs": [],
   "source": [
    "class Meal:\n",
    "    def __init__(self, name, ingredients, recipe=\"\"):\n",
    "        self.name = name\n",
    "        self.ingredients = ingredients  # list of ingredients for the meal\n",
    "        self.recipe = recipe  # string containing the recipe instructions\n",
    "\n",
    "    def __str__(self):\n",
    "        return f\"{self.name}  - Ingredients: {', '.join(self.ingredients)}\"\n",
    "\n",
    "class MealPlan:\n",
    "    def __init__(self):\n",
    "        self.meals = []\n",
    "\n",
    "    def add_meal(self, meal):\n",
    "        self.meals.append(meal)\n",
    "\n",
    "    def display_meals(self):\n",
    "        for meal in self.meals:\n",
    "            print(meal)\n",
    "\n",
    "    def get_meals_by_type(self, meal_type):\n",
    "        return [meal for meal in self.meals if meal.meal_type == meal_type]\n",
    "\n",
    "    def search_by_ingredient(self, ingredient):\n",
    "        # Return meals that contain the specified ingredient\n",
    "        return [meal for meal in self.meals if ingredient in meal.ingredients]\n",
    "    \n",
    "    def shopping_list(self, meal_names):\n",
    "        ingredient_count = {}\n",
    "        for meal_name in meal_names:\n",
    "            # find the meal by name in the meal plan\n",
    "            meal = next((meal for meal in self.meals if meal.name == meal_name), None)\n",
    "            if meal:\n",
    "                for ingredient in meal.ingredients:\n",
    "                    ingredient_count[ingredient] = ingredient_count.get(ingredient, 0) + 1\n",
    "\n",
    "        # Format the consolidated ingredient list\n",
    "        return [f\"{ingredient} x{count}\" for ingredient, count in ingredient_count.items()]\n",
    "\n",
    "\n",
    "def read_meal_from_file(file_name):\n",
    "    with open(file_name, 'r') as file:\n",
    "        lines = file.readlines()\n",
    "        \n",
    "        # Parsing the name\n",
    "        name = lines[0].split(': ')[1].strip()\n",
    "\n",
    "        # Parsing the ingredients\n",
    "        ingredients = ingredients = [i.strip() for i in lines[1].split(':')[1].split(',')]\n",
    "\n",
    "        # Parsing the recipe\n",
    "        recipe_start_index = lines.index(\"Recipe: \\n\") + 1\n",
    "        recipe = ''.join(lines[recipe_start_index:])\n",
    "\n",
    "        return Meal(name, ingredients, recipe)  # Assuming all meals in these files are dinners for simplicity"
   ]
  },
  {
   "cell_type": "code",
   "execution_count": 5,
   "metadata": {},
   "outputs": [],
   "source": [
    "## ==============================================================================##\n",
    "##                            CREATE INSTANCES OF MEALS                          ##\n",
    "\n",
    "vegetable_soup = read_meal_from_file(\"vegetable_soup.txt\")\n",
    "stuffed_peppers=read_meal_from_file(\"stuffed_peppers.txt\")\n",
    "rabbit_stew = read_meal_from_file(\"rabbit_stew.txt\")\n",
    "\n",
    "firecracker_chicken=read_meal_from_file(\"firecracker_chicken.txt\")\n",
    "roast_rabbit=read_meal_from_file(\"roast_rabbit.txt\")\n",
    "pasta_alfredo=read_meal_from_file(\"pasta_alfredo.txt\")"
   ]
  },
  {
   "cell_type": "code",
   "execution_count": 10,
   "metadata": {},
   "outputs": [
    {
     "name": "stdout",
     "output_type": "stream",
     "text": [
      "1. Marinade: In a  bowl, combine the rabbit pieces, 1 cup of white wine, 2 cloves of minced garlic, a couple of sprigs of rosemary (leaves removed\n",
      " from stems), and a pinch of salt and pepper.Ensure the rabbit pieces are well coated. Cover the bowl and let the rabbit marinate for at least 2\n",
      "  hours, preferably overnight in the refrigerator. If marinating overnight, remove from the fridge about 30 minutes prior to cooking to bring it\n",
      "   to room temperature.\n",
      "\n",
      "2. Preheat the Oven: Preheat your oven to 165Â°C.\n",
      "\n",
      "3. Searing the Rabbit: In a large skillet, heat 2 tablespoons of olive oil over medium-high heat. Once hot, add the rabbit pieces, allowing them to sear\n",
      " until they develop a nice brown color on all sides. Transfer the seared rabbit pieces to a ceramic roasting dish.\n",
      "\n",
      "4. SautÃ© the Shallots and Garlic: Reduce the heat to medium in the skillet. Add a bit more oil if necessary. Add 4 or 5 diced shallots,\n",
      " sautÃ©ing them until they begin to soften and turn translucent (about 2-3 minutes). Add the 2 cloves minced garlic and sautÃ© for another\n",
      "  30 seconds to a minute, ensuring the garlic doesnâ€™t burn.\n",
      "\n",
      "5. Assembly for Roasting: Transfer the sautÃ©ed shallots and garlic over the rabbit pieces in the roasting dish. Pour the reserved marinade (wine mixture)\n",
      " over the rabbit. If you're using stock for additional sauce, 1 cup now. Place a couple of rosemary sprigs on top.\n",
      "\n",
      "6. Roasting: Cover the ceramic roasting dish with its lid. Place it in the oven and cook for about 1.5 to 2 hours\n",
      " or until the rabbit is tender. Check occasionally to ensure there's enough liquid in the dish. If it's getting too dry, you can add a bit more stock or water.\n",
      "7. Once cooked, remove from the oven and let it rest for about 10 minutes before serving.\n",
      "8. Serve the rabbit with desired sides. The sauce in the dish, rich with the flavors of wine, shallots, and rosemary, can be drizzled over the rabbit or even\n",
      " thickened on the stovetop to create a more gravy-like consistency if desired.\n",
      "9. Enjoy your meal!\n",
      "\n"
     ]
    }
   ],
   "source": [
    "print(roast_rabbit.recipe)"
   ]
  },
  {
   "cell_type": "code",
   "execution_count": 15,
   "metadata": {},
   "outputs": [
    {
     "name": "stdout",
     "output_type": "stream",
     "text": [
      "['rabbit x1', 'carrots x1', 'potatoes x1', 'onions x1', 'garlic x1']\n"
     ]
    }
   ],
   "source": [
    "meal_plan = MealPlan()  # create an instance of MealPlan\n",
    "rabbit_stew = read_meal_from_file(\"rabbit_stew.txt\")\n",
    "meal_plan.add_meal(rabbit_stew)\n",
    "# If you have other meals, you can add them similarly using meal_plan.add_meal()\n",
    "\n",
    "# Now, you can call shopping_list on the meal_plan instance:\n",
    "print(meal_plan.shopping_list([\"Rabbit Stew\"]))\n"
   ]
  },
  {
   "cell_type": "code",
   "execution_count": 28,
   "metadata": {},
   "outputs": [
    {
     "name": "stdout",
     "output_type": "stream",
     "text": [
      "Vegetable Soup  - Ingredients: carrots, potatoes, onions, garlic, celery, tomatoes, green beans\n",
      "\n",
      "Vegetable Soup Recipe:\n",
      "1. In a large pot, heat some oil over medium heat.\n",
      "2. Add onions, garlic, and celery. SautÃ© until translucent.\n",
      "3. Add carrots, potatoes, tomatoes, and green beans.\n",
      "4. Pour in vegetable broth until vegetables are covered.\n",
      "5. Bring to a boil, then reduce heat and let it simmer for 30 minutes.\n",
      "6. Season with salt, pepper, and any other desired spices.\n",
      "7. Serve hot with some crusty bread.\n",
      "\n"
     ]
    }
   ],
   "source": [
    "print(vegetable_soup)\n",
    "print(\"\\nVegetable Soup Recipe:\")\n",
    "print(vegetable_soup.recipe)"
   ]
  },
  {
   "cell_type": "code",
   "execution_count": 23,
   "metadata": {},
   "outputs": [
    {
     "name": "stdout",
     "output_type": "stream",
     "text": [
      "1. In a bowl, combine: 2 tablespoons golden syrup, 1 tablespoon sriracha sauce, 1 tablespoon soy sauce, 1 teaspoon ginger puree,\n",
      "   1/2 teaspoon of Chinese five spice, and 1 tablespoon of olive oil. Mix well to form a marinade.\n",
      "\n",
      "2. Add 260g of diced chicken to the marinade ensuring each piece is well coated. Let it marinate for at least 30 minutes.\n",
      "\n",
      "3. Heat a skillet or frying pan over medium heat. Add the marinated chicken pieces and cook until browned on all sides.\n",
      "\n",
      "4. Finely chop 1 spring onion and 1 teaspoon of fresh thyme. Add to the pan. Stir well and continue cooking until the chicken is cooked through.\n",
      "\n",
      "5. If you're using red chilli, finely chop half of it and sprinkle over the top for an extra kick.\n",
      "\n",
      "6. Taste and adjust seasoning with salt, if necessary.\n",
      "7. Serve hot with a side of your choice.\n"
     ]
    }
   ],
   "source": [
    "print(firecracker_chicken.recipe)"
   ]
  },
  {
   "cell_type": "code",
   "execution_count": 64,
   "metadata": {},
   "outputs": [
    {
     "name": "stdout",
     "output_type": "stream",
     "text": [
      "1. In a bowl, combine: 2 tablespoons golden syrup, 1 tablespoon sriracha sauce, 1 tablespoon soy sauce, 1 teaspoon ginger puree,\n",
      "   1/2 teaspoon of Chinese five spice, and 1 tablespoon of olive oil. Mix well to form a marinade.\n",
      "\n",
      "2. Add 260g of diced chicken to the marinade ensuring each piece is well coated. Let it marinate for at least 30 minutes.\n",
      "\n",
      "3. Heat a skillet or frying pan over medium heat. Add the marinated chicken pieces and cook until browned on all sides.\n",
      "\n",
      "4. Finely chop 1 spring onion and 1 teaspoon of fresh thyme. Add to the pan. Stir well and continue cooking until the chicken is cooked through.\n",
      "\n",
      "5. If you're using red chilli, finely chop half of it and sprinkle over the top for an extra kick.\n",
      "\n",
      "6. Taste and adjust seasoning with salt, if necessary.\n",
      "7. Serve hot with a side of your choice.\n"
     ]
    }
   ],
   "source": [
    "print(firecracker_chicken.recipe)"
   ]
  },
  {
   "cell_type": "code",
   "execution_count": 1,
   "metadata": {},
   "outputs": [],
   "source": [
    "%store -r rainbow_df\n"
   ]
  },
  {
   "cell_type": "code",
   "execution_count": 2,
   "metadata": {},
   "outputs": [
    {
     "data": {
      "text/html": [
       "<div>\n",
       "<style scoped>\n",
       "    .dataframe tbody tr th:only-of-type {\n",
       "        vertical-align: middle;\n",
       "    }\n",
       "\n",
       "    .dataframe tbody tr th {\n",
       "        vertical-align: top;\n",
       "    }\n",
       "\n",
       "    .dataframe thead th {\n",
       "        text-align: right;\n",
       "    }\n",
       "</style>\n",
       "<table border=\"1\" class=\"dataframe\">\n",
       "  <thead>\n",
       "    <tr style=\"text-align: right;\">\n",
       "      <th></th>\n",
       "      <th>Name</th>\n",
       "      <th>Ingredients</th>\n",
       "      <th>Recipe</th>\n",
       "    </tr>\n",
       "  </thead>\n",
       "  <tbody>\n",
       "    <tr>\n",
       "      <th>0</th>\n",
       "      <td>Spaghetti Bolognese</td>\n",
       "      <td>[pasta, tomato sauce, ground beef]</td>\n",
       "      <td>Boil pasta and cook sauce with beef.</td>\n",
       "    </tr>\n",
       "  </tbody>\n",
       "</table>\n",
       "</div>"
      ],
      "text/plain": [
       "                  Name                         Ingredients  \\\n",
       "0  Spaghetti Bolognese  [pasta, tomato sauce, ground beef]   \n",
       "\n",
       "                                 Recipe  \n",
       "0  Boil pasta and cook sauce with beef.  "
      ]
     },
     "execution_count": 2,
     "metadata": {},
     "output_type": "execute_result"
    }
   ],
   "source": [
    "rainbow_df"
   ]
  },
  {
   "cell_type": "code",
   "execution_count": null,
   "metadata": {},
   "outputs": [],
   "source": []
  }
 ],
 "metadata": {
  "kernelspec": {
   "display_name": "Python 3",
   "language": "python",
   "name": "python3"
  },
  "language_info": {
   "codemirror_mode": {
    "name": "ipython",
    "version": 3
   },
   "file_extension": ".py",
   "mimetype": "text/x-python",
   "name": "python",
   "nbconvert_exporter": "python",
   "pygments_lexer": "ipython3",
   "version": "3.11.5"
  }
 },
 "nbformat": 4,
 "nbformat_minor": 2
}
